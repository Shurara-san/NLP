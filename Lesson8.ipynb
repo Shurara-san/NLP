{
  "cells": [
    {
      "cell_type": "markdown",
      "metadata": {
        "id": "view-in-github",
        "colab_type": "text"
      },
      "source": [
        "<a href=\"https://colab.research.google.com/github/Shurara-san/NLP/blob/Lesson8/Lesson8.ipynb\" target=\"_parent\"><img src=\"https://colab.research.google.com/assets/colab-badge.svg\" alt=\"Open In Colab\"/></a>"
      ]
    },
    {
      "cell_type": "code",
      "execution_count": 123,
      "metadata": {
        "id": "iX3fXshmhoo9"
      },
      "outputs": [],
      "source": [
        "# pip install stop-words"
      ]
    },
    {
      "cell_type": "code",
      "execution_count": 124,
      "metadata": {
        "id": "uM_6RcxMiDzj"
      },
      "outputs": [],
      "source": [
        "# pip install pymorphy2"
      ]
    },
    {
      "cell_type": "code",
      "execution_count": 125,
      "metadata": {
        "id": "0AYpUi8Agwie"
      },
      "outputs": [],
      "source": [
        "import pandas as pd\n",
        "from string import punctuation\n",
        "from stop_words import get_stop_words\n",
        "from pymorphy2 import MorphAnalyzer\n",
        "import re"
      ]
    },
    {
      "cell_type": "code",
      "execution_count": 126,
      "metadata": {
        "colab": {
          "base_uri": "https://localhost:8080/"
        },
        "id": "nnHbU6j9ipy0",
        "outputId": "bc14ef6b-43b2-450f-e9b6-b373af6f15d0"
      },
      "outputs": [
        {
          "output_type": "stream",
          "name": "stdout",
          "text": [
            "Drive already mounted at /content/drive; to attempt to forcibly remount, call drive.mount(\"/content/drive\", force_remount=True).\n"
          ]
        }
      ],
      "source": [
        "from google.colab import drive\n",
        "drive.mount('/content/drive')"
      ]
    },
    {
      "cell_type": "code",
      "execution_count": 127,
      "metadata": {
        "id": "bu8zAukphie9"
      },
      "outputs": [],
      "source": [
        "df_train = pd.read_csv(\"/content/drive/MyDrive/NLP/data/train.csv\")\n",
        "df_test = pd.read_csv(\"/content/drive/MyDrive/NLP/data/test.csv\")\n",
        "df_val = pd.read_csv(\"/content/drive/MyDrive/NLP/data/val.csv\")"
      ]
    },
    {
      "cell_type": "code",
      "execution_count": 128,
      "metadata": {
        "id": "yTZjAJ0GlCV-"
      },
      "outputs": [],
      "source": [
        "sw = set(get_stop_words(\"ru\"))\n",
        "exclude = set(punctuation)\n",
        "morpher = MorphAnalyzer()\n",
        "\n",
        "def preprocess_text(txt):\n",
        "    txt = str(txt)\n",
        "    txt = \"\".join(c for c in txt if c not in exclude)\n",
        "    txt = txt.lower()\n",
        "    txt = re.sub(\"\\sне\", \"не\", txt)\n",
        "    txt = [morpher.parse(word)[0].normal_form for word in txt.split() if word not in sw]\n",
        "    return \" \".join(txt)\n",
        "\n",
        "df_train['text'] = df_train['text'].apply(preprocess_text)\n",
        "df_val['text'] = df_val['text'].apply(preprocess_text)\n",
        "df_test['text'] = df_test['text'].apply(preprocess_text)"
      ]
    },
    {
      "cell_type": "code",
      "execution_count": 129,
      "metadata": {
        "id": "AvKRJVIGlCSj"
      },
      "outputs": [],
      "source": [
        "import numpy as np\n",
        "import keras\n",
        "from keras.models import Sequential, Model\n",
        "from keras.layers import Dense, Dropout, Activation, Input, Embedding, Conv1D, GlobalMaxPool1D, SimpleRNN, LSTM, GRU, Masking, Flatten, Reshape\n",
        "from keras.preprocessing.text import Tokenizer\n",
        "from keras.preprocessing.sequence import pad_sequences\n",
        "from keras.callbacks import TensorBoard \n",
        "#from keras.objectives import categorical_crossentropy\n",
        "from keras.callbacks import EarlyStopping  "
      ]
    },
    {
      "cell_type": "code",
      "execution_count": 130,
      "metadata": {
        "id": "hGmKNgTMlCQT"
      },
      "outputs": [],
      "source": [
        "text_corpus_train = df_train['text'].values\n",
        "text_corpus_valid = df_val['text'].values\n",
        "text_corpus_test = df_test['text'].values"
      ]
    },
    {
      "cell_type": "code",
      "execution_count": 131,
      "metadata": {
        "id": "Y8uI8qlllCOO"
      },
      "outputs": [],
      "source": [
        "tokenizer = Tokenizer(num_words=None, \n",
        "                     filters='#$%&()*+-<=>@[\\\\]^_`{|}~\\t\\n',\n",
        "                     lower = False, split = ' ')\n",
        "tokenizer.fit_on_texts(text_corpus_train)\n",
        "\n",
        "sequences_train = tokenizer.texts_to_sequences(text_corpus_train)\n",
        "sequences_val = tokenizer.texts_to_sequences(text_corpus_valid)\n",
        "sequences_test = tokenizer.texts_to_sequences(text_corpus_test)\n",
        "\n",
        "word_count = len(tokenizer.index_word) + 1\n",
        "training_length = max([len(i.split()) for i in text_corpus_train])\n",
        "\n",
        "X_train = pad_sequences(sequences_train, maxlen=training_length)\n",
        "X_valid = pad_sequences(sequences_val, maxlen=training_length)"
      ]
    },
    {
      "cell_type": "code",
      "execution_count": 132,
      "metadata": {
        "id": "5xgL2azFlCLm"
      },
      "outputs": [],
      "source": [
        "y_train = df_train['class'].values\n",
        "y_val = df_val['class'].values"
      ]
    },
    {
      "cell_type": "code",
      "source": [
        "X_valid.shape"
      ],
      "metadata": {
        "colab": {
          "base_uri": "https://localhost:8080/"
        },
        "id": "-cxdvjS3M9-d",
        "outputId": "fc38dc8e-eab9-4152-cd07-c31a1f3c741a"
      },
      "execution_count": 133,
      "outputs": [
        {
          "output_type": "execute_result",
          "data": {
            "text/plain": [
              "(22683, 27)"
            ]
          },
          "metadata": {},
          "execution_count": 133
        }
      ]
    },
    {
      "cell_type": "markdown",
      "source": [
        "### RNN модель с урока"
      ],
      "metadata": {
        "id": "f1KlK6xT7bMQ"
      }
    },
    {
      "cell_type": "code",
      "execution_count": 134,
      "metadata": {
        "id": "8ZJDEneFlCEd"
      },
      "outputs": [],
      "source": [
        "model_RNN = Sequential()\n",
        "\n",
        "model_RNN.add(\n",
        "    Embedding(input_dim=word_count,\n",
        "              input_length=training_length,\n",
        "              output_dim=30,\n",
        "              trainable=True,\n",
        "              mask_zero=True))\n",
        "model_RNN.add(Masking(mask_value=0.0))\n",
        "\n",
        "model_RNN.add(SimpleRNN(64))\n",
        "model_RNN.add(Dense(64, activation='relu'))\n",
        "model_RNN.add(Dropout(0.5))\n",
        "model_RNN.add(Dense(1, activation='sigmoid'))\n",
        "\n",
        "model_RNN.compile(\n",
        "    optimizer='adam', loss='binary_crossentropy', metrics=['accuracy'])"
      ]
    },
    {
      "cell_type": "code",
      "execution_count": 135,
      "metadata": {
        "id": "EP8pKj5ylCBN",
        "colab": {
          "base_uri": "https://localhost:8080/"
        },
        "outputId": "09633551-40c9-43c7-df72-526895b979b8"
      },
      "outputs": [
        {
          "output_type": "stream",
          "name": "stdout",
          "text": [
            "Epoch 1/10\n",
            "319/319 [==============================] - 17s 47ms/step - loss: 0.5620 - accuracy: 0.6955 - val_loss: 0.4929 - val_accuracy: 0.7560\n",
            "Epoch 2/10\n",
            "319/319 [==============================] - 15s 46ms/step - loss: 0.2868 - accuracy: 0.8832 - val_loss: 0.5941 - val_accuracy: 0.7414\n"
          ]
        }
      ],
      "source": [
        "early_stopping=EarlyStopping(monitor='val_loss')  \n",
        "\n",
        "\n",
        "history = model_RNN.fit(X_train, y_train,\n",
        "                    batch_size=512,\n",
        "                    epochs=10,\n",
        "                    verbose=1,\n",
        "                    validation_split=0.1,\n",
        "                    callbacks=[early_stopping])"
      ]
    },
    {
      "cell_type": "code",
      "execution_count": 136,
      "metadata": {
        "id": "bDyxnSAylB-e",
        "colab": {
          "base_uri": "https://localhost:8080/"
        },
        "outputId": "9f1ec30d-3ffb-43db-8ab1-66e3a8f39d13"
      },
      "outputs": [
        {
          "output_type": "stream",
          "name": "stdout",
          "text": [
            "45/45 [==============================] - 0s 6ms/step - loss: 0.6214 - accuracy: 0.7331\n",
            "\n",
            "\n",
            "Test score: 0.6214226484298706\n",
            "Test accuracy: 0.7331041097640991\n"
          ]
        }
      ],
      "source": [
        "score = model_RNN.evaluate(X_valid, y_val, batch_size=512, verbose=1)\n",
        "print('\\n')\n",
        "print('Test score:', score[0])\n",
        "print('Test accuracy:', score[1])"
      ]
    },
    {
      "cell_type": "markdown",
      "source": [
        "### CNN модель"
      ],
      "metadata": {
        "id": "vpY2HmBx7mp_"
      }
    },
    {
      "cell_type": "code",
      "execution_count": 137,
      "metadata": {
        "id": "kYuI9CgwlB75"
      },
      "outputs": [],
      "source": [
        "model_CNN = Sequential()\n",
        "\n",
        "model_CNN.add(\n",
        "  Embedding(input_dim=word_count,\n",
        "            input_length=training_length,\n",
        "            output_dim=30,\n",
        "            trainable=True,\n",
        "            mask_zero=True))\n",
        " \n",
        "model_CNN.add(Conv1D(64, kernel_size=(30), activation='tanh', padding=\"same\"))\n",
        "model_CNN.add(GlobalMaxPool1D())\n",
        "model_CNN.add(Dense(64, activation='tanh'))\n",
        "model_CNN.add(Dropout(0.5))\n",
        "model_CNN.add(Dense(1, activation='softmax'))\n",
        "\n",
        "model_CNN.compile(optimizer='adam', loss='binary_crossentropy', metrics=['accuracy'])"
      ]
    },
    {
      "cell_type": "code",
      "execution_count": 138,
      "metadata": {
        "id": "iEYhY7p_lB5U",
        "colab": {
          "base_uri": "https://localhost:8080/"
        },
        "outputId": "70763e94-31a5-4003-df86-eabc3dfd3e15"
      },
      "outputs": [
        {
          "output_type": "stream",
          "name": "stdout",
          "text": [
            "Epoch 1/10\n",
            "319/319 [==============================] - 4s 10ms/step - loss: 0.5443 - accuracy: 0.5076 - val_loss: 0.4853 - val_accuracy: 0.5049\n",
            "Epoch 2/10\n",
            "319/319 [==============================] - 3s 10ms/step - loss: 0.2831 - accuracy: 0.5076 - val_loss: 0.5484 - val_accuracy: 0.5049\n"
          ]
        }
      ],
      "source": [
        "early_stopping=EarlyStopping(monitor='val_loss')  \n",
        "\n",
        "\n",
        "history = model_CNN.fit(X_train, y_train,\n",
        "                    batch_size=512,\n",
        "                    epochs=10,\n",
        "                    verbose=1,\n",
        "                    validation_split=0.1,\n",
        "                    callbacks=[early_stopping])"
      ]
    },
    {
      "cell_type": "code",
      "execution_count": 139,
      "metadata": {
        "id": "T_2v8dUdlBwC",
        "colab": {
          "base_uri": "https://localhost:8080/"
        },
        "outputId": "aae3d953-08cf-4c32-dd57-1a521780475c"
      },
      "outputs": [
        {
          "output_type": "stream",
          "name": "stdout",
          "text": [
            "45/45 [==============================] - 0s 3ms/step - loss: 0.6221 - accuracy: 0.5047\n",
            "\n",
            "\n",
            "Test score: 0.6220514178276062\n",
            "Test accuracy: 0.5047392249107361\n"
          ]
        }
      ],
      "source": [
        "score = model_CNN.evaluate(X_valid, y_val, batch_size=512, verbose=1)\n",
        "print('\\n')\n",
        "print('Test score:', score[0])\n",
        "print('Test accuracy:', score[1])"
      ]
    },
    {
      "cell_type": "markdown",
      "source": [
        "### CNN -> RNN модель"
      ],
      "metadata": {
        "id": "mSQXsSwDKfez"
      }
    },
    {
      "cell_type": "code",
      "source": [
        "model_CNN_RNN = Sequential()\n",
        "\n",
        "model_CNN_RNN.add(\n",
        "  Embedding(input_dim=word_count,\n",
        "            input_length=training_length,\n",
        "            output_dim=30,\n",
        "            trainable=True,\n",
        "            mask_zero=True))\n",
        " \n",
        "model_CNN_RNN.add(Conv1D(64, kernel_size=(7), activation='tanh', input_shape=(None, 27, 1), padding=\"same\"))\n",
        "model_CNN_RNN.add(GlobalMaxPool1D())\n",
        "model_CNN_RNN.add(Reshape((64,1)))\n",
        "model_CNN_RNN.add(SimpleRNN(64))\n",
        "model_CNN_RNN.add(Dense(64, activation='tanh'))\n",
        "model_CNN_RNN.add(Dropout(0.5))\n",
        "model_CNN_RNN.add(Dense(1, activation='softmax'))\n",
        "\n",
        "model_CNN_RNN.compile(optimizer='adam', loss='binary_crossentropy', metrics=['accuracy'])"
      ],
      "metadata": {
        "id": "iyEAGCgpKer3"
      },
      "execution_count": 140,
      "outputs": []
    },
    {
      "cell_type": "code",
      "source": [
        "early_stopping=EarlyStopping(monitor='val_loss')  \n",
        "\n",
        "\n",
        "history = model_CNN_RNN.fit(X_train, y_train,\n",
        "                    batch_size=512,\n",
        "                    epochs=10,\n",
        "                    verbose=1,\n",
        "                    validation_split=0.1,\n",
        "                    callbacks=[early_stopping])"
      ],
      "metadata": {
        "colab": {
          "base_uri": "https://localhost:8080/"
        },
        "id": "SBbRU8pdRENC",
        "outputId": "39639fa4-1f2b-4aed-8ee6-0dc203bf7fb9"
      },
      "execution_count": 141,
      "outputs": [
        {
          "output_type": "stream",
          "name": "stdout",
          "text": [
            "Epoch 1/10\n",
            "319/319 [==============================] - 24s 71ms/step - loss: 0.5515 - accuracy: 0.5076 - val_loss: 0.4885 - val_accuracy: 0.5049\n",
            "Epoch 2/10\n",
            "319/319 [==============================] - 23s 71ms/step - loss: 0.2600 - accuracy: 0.5076 - val_loss: 0.5467 - val_accuracy: 0.5049\n"
          ]
        }
      ]
    },
    {
      "cell_type": "code",
      "source": [
        "score = model_CNN_RNN.evaluate(X_valid, y_val, batch_size=512, verbose=1)\n",
        "print('\\n')\n",
        "print('Test score:', score[0])\n",
        "print('Test accuracy:', score[1])"
      ],
      "metadata": {
        "colab": {
          "base_uri": "https://localhost:8080/"
        },
        "id": "N8ey5d7NRXjR",
        "outputId": "61608045-a3f2-4ca9-8d52-064d6534a2cf"
      },
      "execution_count": 142,
      "outputs": [
        {
          "output_type": "stream",
          "name": "stdout",
          "text": [
            "45/45 [==============================] - 0s 8ms/step - loss: 0.5637 - accuracy: 0.5047\n",
            "\n",
            "\n",
            "Test score: 0.5637281537055969\n",
            "Test accuracy: 0.5047392249107361\n"
          ]
        }
      ]
    },
    {
      "cell_type": "markdown",
      "source": [
        "### RNN -> CNN модель"
      ],
      "metadata": {
        "id": "Hhyr6s2VSnDZ"
      }
    },
    {
      "cell_type": "code",
      "source": [
        "model_RNN_CNN = Sequential()\n",
        "\n",
        "model_RNN_CNN.add(\n",
        "  Embedding(input_dim=word_count,\n",
        "            input_length=training_length,\n",
        "            output_dim=30,\n",
        "            trainable=True,\n",
        "            mask_zero=True))\n",
        " \n",
        "model_RNN_CNN.add(SimpleRNN(64, input_shape=(None, 27, 1)))\n",
        "model_RNN_CNN.add(Reshape((64,1)))\n",
        "model_RNN_CNN.add(Conv1D(64, kernel_size=(7), activation='tanh', padding=\"same\"))\n",
        "model_RNN_CNN.add(GlobalMaxPool1D())\n",
        "model_RNN_CNN.add(Dense(64, activation='tanh'))\n",
        "model_RNN_CNN.add(Dropout(0.5))\n",
        "model_RNN_CNN.add(Dense(1, activation='softmax'))\n",
        "\n",
        "model_RNN_CNN.compile(optimizer='adam', loss='binary_crossentropy', metrics=['accuracy'])"
      ],
      "metadata": {
        "id": "k_9vlY81R8g2"
      },
      "execution_count": 143,
      "outputs": []
    },
    {
      "cell_type": "code",
      "source": [
        "early_stopping=EarlyStopping(monitor='val_loss')  \n",
        "\n",
        "\n",
        "history = model_RNN_CNN.fit(X_train, y_train,\n",
        "                    batch_size=512,\n",
        "                    epochs=10,\n",
        "                    verbose=1,\n",
        "                    validation_split=0.1,\n",
        "                    callbacks=[early_stopping])"
      ],
      "metadata": {
        "colab": {
          "base_uri": "https://localhost:8080/"
        },
        "id": "PAHdhFg-UU_Z",
        "outputId": "a63e1dfa-f976-48b3-c1f1-f3a8b2e348ab"
      },
      "execution_count": 144,
      "outputs": [
        {
          "output_type": "stream",
          "name": "stdout",
          "text": [
            "Epoch 1/10\n",
            "319/319 [==============================] - 17s 48ms/step - loss: 0.5595 - accuracy: 0.5076 - val_loss: 0.4913 - val_accuracy: 0.5049\n",
            "Epoch 2/10\n",
            "319/319 [==============================] - 15s 47ms/step - loss: 0.2838 - accuracy: 0.5076 - val_loss: 0.5612 - val_accuracy: 0.5049\n"
          ]
        }
      ]
    },
    {
      "cell_type": "code",
      "source": [
        "score = model_CNN_RNN.evaluate(X_valid, y_val, batch_size=512, verbose=1)\n",
        "print('\\n')\n",
        "print('Test score:', score[0])\n",
        "print('Test accuracy:', score[1])"
      ],
      "metadata": {
        "colab": {
          "base_uri": "https://localhost:8080/"
        },
        "id": "3HWIglGfUi2o",
        "outputId": "cc141277-c858-4f48-ea26-dc17629869b7"
      },
      "execution_count": 145,
      "outputs": [
        {
          "output_type": "stream",
          "name": "stdout",
          "text": [
            "45/45 [==============================] - 0s 8ms/step - loss: 0.5637 - accuracy: 0.5047\n",
            "\n",
            "\n",
            "Test score: 0.5637281537055969\n",
            "Test accuracy: 0.5047392249107361\n"
          ]
        }
      ]
    },
    {
      "cell_type": "code",
      "source": [
        ""
      ],
      "metadata": {
        "id": "SlXcd1kgUU5S"
      },
      "execution_count": 145,
      "outputs": []
    }
  ],
  "metadata": {
    "accelerator": "GPU",
    "colab": {
      "name": "Lesson8.ipynb",
      "provenance": [],
      "collapsed_sections": [],
      "authorship_tag": "ABX9TyPIAL9MsVf4LwzPFtvV/qAM",
      "include_colab_link": true
    },
    "gpuClass": "standard",
    "kernelspec": {
      "display_name": "Python 3",
      "name": "python3"
    },
    "language_info": {
      "name": "python"
    }
  },
  "nbformat": 4,
  "nbformat_minor": 0
}